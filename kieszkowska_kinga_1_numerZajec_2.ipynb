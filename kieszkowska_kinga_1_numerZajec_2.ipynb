{
  "nbformat": 4,
  "nbformat_minor": 0,
  "metadata": {
    "colab": {
      "name": "kieszkowska_kinga_1_numerZajec_2.ipynb",
      "provenance": [],
      "collapsed_sections": []
    },
    "kernelspec": {
      "name": "python3",
      "display_name": "Python 3"
    },
    "language_info": {
      "name": "python"
    }
  },
  "cells": [
    {
      "cell_type": "markdown",
      "metadata": {
        "id": "-aj4g40vJX75"
      },
      "source": [
        "Cwiczenie 1"
      ]
    },
    {
      "cell_type": "code",
      "metadata": {
        "id": "DLBeZzinJWm_"
      },
      "source": [
        "zmienna1 = \"Uwielbiam zajecia z programowania\"\n"
      ],
      "execution_count": null,
      "outputs": []
    },
    {
      "cell_type": "code",
      "metadata": {
        "colab": {
          "base_uri": "https://localhost:8080/",
          "height": 35
        },
        "id": "Bt_F6MLZKEyV",
        "outputId": "65060590-ae51-442d-b324-8b52c89bc638"
      },
      "source": [
        "zmienna1[13:-10]"
      ],
      "execution_count": null,
      "outputs": [
        {
          "output_type": "execute_result",
          "data": {
            "application/vnd.google.colaboratory.intrinsic+json": {
              "type": "string"
            },
            "text/plain": [
              "'ecia z pro'"
            ]
          },
          "metadata": {},
          "execution_count": 5
        }
      ]
    },
    {
      "cell_type": "code",
      "metadata": {
        "colab": {
          "base_uri": "https://localhost:8080/",
          "height": 35
        },
        "id": "2ensF8-GKo5E",
        "outputId": "0545695c-a355-4487-c0b3-f68ec20f73b8"
      },
      "source": [
        "zmienna1[-34:]"
      ],
      "execution_count": null,
      "outputs": [
        {
          "output_type": "execute_result",
          "data": {
            "application/vnd.google.colaboratory.intrinsic+json": {
              "type": "string"
            },
            "text/plain": [
              "'Uwielbiam zajecia z programowania'"
            ]
          },
          "metadata": {},
          "execution_count": 13
        }
      ]
    },
    {
      "cell_type": "code",
      "metadata": {
        "colab": {
          "base_uri": "https://localhost:8080/",
          "height": 35
        },
        "id": "qc4rhXgkLSa7",
        "outputId": "d9c01c84-1f81-4dd9-e890-e24ddef71165"
      },
      "source": [
        "zmienna1[1:50:3]"
      ],
      "execution_count": null,
      "outputs": [
        {
          "output_type": "execute_result",
          "data": {
            "application/vnd.google.colaboratory.intrinsic+json": {
              "type": "string"
            },
            "text/plain": [
              "'wlazea oawi'"
            ]
          },
          "metadata": {},
          "execution_count": 16
        }
      ]
    },
    {
      "cell_type": "markdown",
      "metadata": {
        "id": "nWBVZk6iLwLP"
      },
      "source": [
        "Cwiczenie 2"
      ]
    },
    {
      "cell_type": "code",
      "metadata": {
        "id": "mC0GV4ZKLxvz"
      },
      "source": [
        "zdanie1 = \"\"\"\n",
        "Czarny to moj ulubiony kolor. Niestety, \n",
        "kolor czarny bardzo szybko spiera się z moich ubran\n",
        "\"\"\"\n"
      ],
      "execution_count": null,
      "outputs": []
    },
    {
      "cell_type": "code",
      "metadata": {
        "colab": {
          "base_uri": "https://localhost:8080/"
        },
        "id": "2yOAN3bHMTuC",
        "outputId": "88c74721-7e9b-4aab-8e7c-6633224c9a13"
      },
      "source": [
        "zdanie1.istitle()"
      ],
      "execution_count": null,
      "outputs": [
        {
          "output_type": "execute_result",
          "data": {
            "text/plain": [
              "False"
            ]
          },
          "metadata": {},
          "execution_count": 2
        }
      ]
    },
    {
      "cell_type": "code",
      "metadata": {
        "id": "xGCseCFBUHqJ"
      },
      "source": [
        "zdanie1 = \"\"\"\n",
        "Czarny to moj ulubiony kolor. Niestety, \n",
        "kolor czarny bardzo szybko spiera się z moich ubran\n",
        "\"\"\""
      ],
      "execution_count": 8,
      "outputs": []
    },
    {
      "cell_type": "code",
      "metadata": {
        "colab": {
          "base_uri": "https://localhost:8080/"
        },
        "id": "KQ75YmbyOI9v",
        "outputId": "8b9015db-3da3-42e8-aa06-fe9fa38a0318"
      },
      "source": [
        "zdanie1.startswith('C',1)\n",
        "\n"
      ],
      "execution_count": null,
      "outputs": [
        {
          "output_type": "execute_result",
          "data": {
            "text/plain": [
              "True"
            ]
          },
          "metadata": {},
          "execution_count": 93
        }
      ]
    },
    {
      "cell_type": "code",
      "metadata": {
        "colab": {
          "base_uri": "https://localhost:8080/"
        },
        "id": "lpXgcFWBNYG7",
        "outputId": "133c1837-58b4-47e1-e2aa-3bc9155963cb"
      },
      "source": [
        "zdanie2 = zdanie1.replace('Czarny','Bialy').replace('czarny','bialy')\n",
        "print(zdanie2)"
      ],
      "execution_count": 28,
      "outputs": [
        {
          "output_type": "stream",
          "name": "stdout",
          "text": [
            "\n",
            "Bialy to moj ulubiony kolor. Niestety, \n",
            "kolor bialy bardzo szybko spiera się z moich ubran\n",
            "\n"
          ]
        }
      ]
    }
  ]
}