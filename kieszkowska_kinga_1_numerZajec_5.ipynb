{
  "nbformat": 4,
  "nbformat_minor": 0,
  "metadata": {
    "colab": {
      "name": "kieszkowska_kinga_1_numerZajec_5.ipynb",
      "provenance": [],
      "authorship_tag": "ABX9TyN2D+r14s8y6SHcwCYxplzO",
      "include_colab_link": true
    },
    "kernelspec": {
      "display_name": "Python 3",
      "name": "python3"
    },
    "language_info": {
      "name": "python"
    }
  },
  "cells": [
    {
      "cell_type": "markdown",
      "metadata": {
        "id": "view-in-github",
        "colab_type": "text"
      },
      "source": [
        "<a href=\"https://colab.research.google.com/github/kinga98/Programowanie-API-1-rok-mgr/blob/main/kieszkowska_kinga_1_numerZajec_5.ipynb\" target=\"_parent\"><img src=\"https://colab.research.google.com/assets/colab-badge.svg\" alt=\"Open In Colab\"/></a>"
      ]
    },
    {
      "cell_type": "code",
      "metadata": {
        "colab": {
          "base_uri": "https://localhost:8080/"
        },
        "id": "76Zvse07RILO",
        "outputId": "bdb35772-98b7-4ba2-9e0a-dc536d11fed1"
      },
      "source": [
        "#Zadanie_1\n",
        "\n",
        "moja_liczba = 14\n",
        "print(\"Spróbuj zgadnąć jaką liczbę całkowitą w przedziale od 1 do 20 wybrałam. Masz 6 prób.\")\n",
        "\n",
        "liczba_prob = 0\n",
        "max_prob = 6\n",
        "while liczba_prob < max_prob:\n",
        "  zgadnij = int(input(\"Zgadnij jaką liczbę wybrałam: \"))\n",
        "  liczba_prob += 1\n",
        "  if zgadnij == moja_liczba:\n",
        "    print(\"Gratulacje! To właśnie moja liczba.\")\n",
        "    break\n",
        "  if zgadnij != moja_liczba:\n",
        "    print(\"To nie jest moja liczba.Spróbuj ponownie!\")\n",
        "  if zgadnij > 20:\n",
        "    print(\"Wybierz liczbę ze zdefiniowanego w poleceniu przedziału.\")\n",
        "else:\n",
        "  print(\"Wykorzystałeś wszystkie podejścia. Uruchom ponownie kod i spróbuj ponownie.\")\n"
      ],
      "execution_count": null,
      "outputs": [
        {
          "output_type": "stream",
          "name": "stdout",
          "text": [
            "Spróbuj zgadnąć jaką liczbę całkowitą w przedziale od 1 do 20 wybrałam. Masz 6 prób.\n",
            "Zgadnij jaką liczbę wybrałam: 2\n",
            "To nie jest moja liczba.Spróbuj ponownie!\n",
            "Zgadnij jaką liczbę wybrałam: 3\n",
            "To nie jest moja liczba.Spróbuj ponownie!\n",
            "Zgadnij jaką liczbę wybrałam: 1\n",
            "To nie jest moja liczba.Spróbuj ponownie!\n",
            "Zgadnij jaką liczbę wybrałam: 2\n",
            "To nie jest moja liczba.Spróbuj ponownie!\n",
            "Zgadnij jaką liczbę wybrałam: 14\n",
            "Gratulacje! To właśnie moja liczba.\n"
          ]
        }
      ]
    }
  ]
}