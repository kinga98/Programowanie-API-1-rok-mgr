{
  "nbformat": 4,
  "nbformat_minor": 0,
  "metadata": {
    "colab": {
      "name": "kieszkowska_kinga1_numer_zajec3.ipynb",
      "provenance": [],
      "authorship_tag": "ABX9TyNgnhZhG1PDOhnc1yWsYeVT",
      "include_colab_link": true
    },
    "kernelspec": {
      "name": "python3",
      "display_name": "Python 3"
    },
    "language_info": {
      "name": "python"
    }
  },
  "cells": [
    {
      "cell_type": "markdown",
      "metadata": {
        "id": "view-in-github",
        "colab_type": "text"
      },
      "source": [
        "<a href=\"https://colab.research.google.com/github/kinga98/Programowanie-API-1-rok-mgr/blob/main/kieszkowska_kinga1_numer_zajec3.ipynb\" target=\"_parent\"><img src=\"https://colab.research.google.com/assets/colab-badge.svg\" alt=\"Open In Colab\"/></a>"
      ]
    },
    {
      "cell_type": "markdown",
      "metadata": {
        "id": "9doqQiuDRKKy"
      },
      "source": [
        "Zadanie 1: Formularz"
      ]
    },
    {
      "cell_type": "code",
      "metadata": {
        "colab": {
          "base_uri": "https://localhost:8080/"
        },
        "id": "wRD01-g_RBFb",
        "outputId": "fbfaff63-f13e-45d6-cf1d-e1d671d43612"
      },
      "source": [
        "imie = input(\"Imie: \")\n",
        "if imie.isalpha() == True:\n",
        "  print(\"poprawne dane\")\n",
        "else:\n",
        "  print(\"niepoprawne dane\")"
      ],
      "execution_count": 1,
      "outputs": [
        {
          "output_type": "stream",
          "name": "stdout",
          "text": [
            "Imie: Kinga\n",
            "poprawne dane\n"
          ]
        }
      ]
    },
    {
      "cell_type": "code",
      "metadata": {
        "colab": {
          "base_uri": "https://localhost:8080/"
        },
        "id": "s-U1xVW7RoMD",
        "outputId": "44c0eb66-dbbf-4025-90b8-ef3880021afb"
      },
      "source": [
        "nazwisko = input(\"Nazwisko: \")\n",
        "if nazwisko.isalpha() == True:\n",
        "  print(\"poprawne dane\")\n",
        "else:\n",
        "  print(\"niepoprawne dane\")"
      ],
      "execution_count": 2,
      "outputs": [
        {
          "output_type": "stream",
          "name": "stdout",
          "text": [
            "Nazwisko: Kieszkowska\n",
            "poprawne dane\n"
          ]
        }
      ]
    },
    {
      "cell_type": "code",
      "metadata": {
        "colab": {
          "base_uri": "https://localhost:8080/"
        },
        "id": "7Zy3a2qoR67_",
        "outputId": "9bee9767-b3b5-4904-9dd5-4a4dde97c260"
      },
      "source": [
        "wiek = input(\"Wiek: \")\n",
        "\n",
        "if wiek.isdigit() == True:\n",
        "  print(\"poprawne dane\")\n",
        "else:\n",
        "  print(\"niepoprawne dane\")"
      ],
      "execution_count": 3,
      "outputs": [
        {
          "output_type": "stream",
          "name": "stdout",
          "text": [
            "Wiek: 22\n",
            "poprawne dane\n"
          ]
        }
      ]
    },
    {
      "cell_type": "code",
      "metadata": {
        "colab": {
          "base_uri": "https://localhost:8080/"
        },
        "id": "L8wUAhrVC3eI",
        "outputId": "650284c1-dddb-4abc-a925-48a97901a269"
      },
      "source": [
        "haslo = input(\"Haslo: \")\n",
        "\n",
        "haslo2 = input(\"Powtorz haslo: \")\n",
        "if haslo == haslo2:\n",
        "  print(\"OK\")\n",
        "if haslo != haslo2:\n",
        "  print(\"Hasla roznia sie od siebie. Sprobuj ponownie\")\n"
      ],
      "execution_count": 4,
      "outputs": [
        {
          "output_type": "stream",
          "name": "stdout",
          "text": [
            "Haslo: abcd\n",
            "Powtorz haslo: abcd\n",
            "OK\n"
          ]
        }
      ]
    },
    {
      "cell_type": "code",
      "metadata": {
        "colab": {
          "base_uri": "https://localhost:8080/"
        },
        "id": "pqFzFh6uawjO",
        "outputId": "6e6cf1ad-5147-4b21-c0af-0f2ad8255745"
      },
      "source": [
        "numer_telefonu = input(\"Numer telefonu: \")\n",
        "if len(numer_telefonu) == 9 and numer_telefonu.isnumeric():  \n",
        "  print(\"Poprawny numer\")\n",
        "if len(numer_telefonu) == 11:\n",
        "  if numer_telefonu [3:11:4] == \"--\":\n",
        "    numer_telefonu2 = numer_telefonu.replace(\"-\",\"\")\n",
        "    print(numer_telefonu2)\n",
        "    print(\"Poprawny numer\")\n",
        "  else:\n",
        "     print(\"Niepoprawny numer\")\n",
        "  if numer_telefonu [3:11:4] == \" \":\n",
        "    numer_telefonu3 = numer_telefonu.replace(\" \",\"\")\n",
        "    print(numer_telefonu3)\n",
        "  if len(numer_telefonu) > 11:\n",
        "     print(\"Niepoprawny numer\")\n",
        "\n"
      ],
      "execution_count": 23,
      "outputs": [
        {
          "output_type": "stream",
          "name": "stdout",
          "text": [
            "Numer telefonu: 123-456-678\n",
            "123456678\n",
            "Poprawny numer\n"
          ]
        }
      ]
    },
    {
      "cell_type": "code",
      "metadata": {
        "colab": {
          "base_uri": "https://localhost:8080/"
        },
        "id": "wflUCLMUO-oU",
        "outputId": "a6fb3369-a496-45c6-c879-ffd8d608150e"
      },
      "source": [
        "print(\"Podsumowanie\")\n",
        "print(\"--------------------\")\n",
        "print(\"Sprawdz, czy wpisales poprawne dane: \")\n",
        "print()\n",
        "print(\"imie: \"), print(imie)\n",
        "print()\n",
        "print(\"nazwisko: \"), print(nazwisko)\n",
        "print()\n",
        "print(\"wiek: \"), print(wiek)\n",
        "print()\n",
        "print(\"haslo: \"), print(haslo)\n",
        "print()\n",
        "print(\"numer_telefonu: \"), print(numer_telefonu2)"
      ],
      "execution_count": 25,
      "outputs": [
        {
          "output_type": "stream",
          "name": "stdout",
          "text": [
            "Podsumowanie\n",
            "--------------------\n",
            "Sprawdz, czy wpisales poprawne dane: \n",
            "\n",
            "imie: \n",
            "Kinga\n",
            "\n",
            "nazwisko: \n",
            "Kieszkowska\n",
            "\n",
            "wiek: \n",
            "22\n",
            "\n",
            "haslo: \n",
            "abcd\n",
            "\n",
            "numer_telefonu: \n",
            "123456678\n"
          ]
        },
        {
          "output_type": "execute_result",
          "data": {
            "text/plain": [
              "(None, None)"
            ]
          },
          "metadata": {},
          "execution_count": 25
        }
      ]
    },
    {
      "cell_type": "markdown",
      "metadata": {
        "id": "TwXGeE1F_RAX"
      },
      "source": [
        "Zadanie 2 - Kalkulator"
      ]
    },
    {
      "cell_type": "code",
      "metadata": {
        "colab": {
          "base_uri": "https://localhost:8080/"
        },
        "id": "K65Tv6Yh_CLy",
        "outputId": "2f67b6e0-c73d-4faf-ef85-ecc8461c8652"
      },
      "source": [
        "pierwsza_liczba = input(\"Podaj pierwsza liczbe: \")\n",
        "if pierwsza_liczba.isdigit():\n",
        "  print(\"OK\")\n",
        "  pierwsza_liczba_int = int(pierwsza_liczba)\n",
        "else:\n",
        "  print(\"Bledne dane. Wpisz liczbe.\")"
      ],
      "execution_count": 17,
      "outputs": [
        {
          "output_type": "stream",
          "name": "stdout",
          "text": [
            "Podaj pierwsza liczbe: 23\n",
            "OK\n"
          ]
        }
      ]
    },
    {
      "cell_type": "code",
      "metadata": {
        "colab": {
          "base_uri": "https://localhost:8080/"
        },
        "id": "LziK76baAw5e",
        "outputId": "b5e0212b-19b2-4b16-fa2a-fc49609a82d5"
      },
      "source": [
        "druga_liczba = input(\"Podaj druga liczbe: \")\n",
        "if druga_liczba.isdigit():\n",
        "  print(\"OK\")\n",
        "  druga_liczba_int = int(druga_liczba)\n",
        "else:\n",
        "  print(\"Bledne dane. Wpisz liczbe.\")"
      ],
      "execution_count": 19,
      "outputs": [
        {
          "output_type": "stream",
          "name": "stdout",
          "text": [
            "Podaj druga liczbe: 34\n",
            "OK\n"
          ]
        }
      ]
    },
    {
      "cell_type": "code",
      "metadata": {
        "colab": {
          "base_uri": "https://localhost:8080/"
        },
        "id": "8NXvvfHVBGEO",
        "outputId": "48a5212e-4e95-4ab4-9342-f5f480734a64"
      },
      "source": [
        "print(\"Wpisz: dodawanie, odejmowanie, mnozenie, dzielenie, potegowanie, modulo\")\n",
        "dzialanie = input(\"Jakie dzialanie chcesz wykonac?: \")\n",
        "if dzialanie == \"dodawanie\":\n",
        "   dodawanie = pierwsza_liczba_int + druga_liczba_int\n",
        "   print(dodawanie)\n",
        "elif dzialanie == \"odejmowanie\":\n",
        "   odejmowanie = pierwsza_liczba_int - druga_liczba_int\n",
        "   print(odejmowanie)\n",
        "elif dzialanie == \"mnozenie\":\n",
        "   mnozenie = pierwsza_liczba_int * druga_liczba_int\n",
        "   print(mnozenie)\n",
        "elif dzialanie == \"dzielenie\":\n",
        "   dzielenie = pierwsza_liczba_int / druga_liczba_int\n",
        "   print(mnozenie)\n",
        "elif dzialanie == \"potegowanie\":\n",
        "   potegowanie = pierwsza_liczba_int ** druga_liczba_int\n",
        "   print(potegowanie)\n",
        "elif dzialanie == \"modulo\":\n",
        "   modulo = pierwsza_liczba_int % druga_liczba_int\n",
        "   print(modulo)\n",
        "else:\n",
        "  print(\"Niepoprawna formula. Wpisz jedno z podanych polecen.\")\n",
        "\n",
        "   "
      ],
      "execution_count": 22,
      "outputs": [
        {
          "output_type": "stream",
          "name": "stdout",
          "text": [
            "Wpisz: dodawanie, odejmowanie, mnozenie, dzielenie, potegowanie, modulo\n",
            "Jakie dzialanie chcesz wykonac?: dodawanie\n",
            "57\n"
          ]
        }
      ]
    },
    {
      "cell_type": "code",
      "metadata": {
        "id": "0dtx21qGEi_I"
      },
      "source": [
        ""
      ],
      "execution_count": null,
      "outputs": []
    }
  ]
}