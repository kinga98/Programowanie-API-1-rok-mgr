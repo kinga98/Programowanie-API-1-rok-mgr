{
  "nbformat": 4,
  "nbformat_minor": 0,
  "metadata": {
    "colab": {
      "name": "kieszkowska_kinga_1_numerZajec_9.ipynb",
      "provenance": [],
      "authorship_tag": "ABX9TyPPpH8/PGSlAuBC3flP5Sw0",
      "include_colab_link": true
    },
    "kernelspec": {
      "name": "python3",
      "display_name": "Python 3"
    },
    "language_info": {
      "name": "python"
    }
  },
  "cells": [
    {
      "cell_type": "markdown",
      "metadata": {
        "id": "view-in-github",
        "colab_type": "text"
      },
      "source": [
        "<a href=\"https://colab.research.google.com/github/kinga98/Programowanie-API-1-rok-mgr/blob/main/kieszkowska_kinga_1_numerZajec_9.ipynb\" target=\"_parent\"><img src=\"https://colab.research.google.com/assets/colab-badge.svg\" alt=\"Open In Colab\"/></a>"
      ]
    },
    {
      "cell_type": "code",
      "metadata": {
        "id": "KbvJvz3K2JFC"
      },
      "source": [
        "import re"
      ],
      "execution_count": 3,
      "outputs": []
    },
    {
      "cell_type": "code",
      "metadata": {
        "id": "NEthxgYu1Xy3"
      },
      "source": [
        "tekst1 = \"Imię i nazwisko: Hubar, Patryk. Data urodzenia: 7 czerwca 1993. Numer telefonu: 123-456-789\""
      ],
      "execution_count": 1,
      "outputs": []
    },
    {
      "cell_type": "code",
      "metadata": {
        "id": "_Hy4Td421uKU"
      },
      "source": [
        "tekst2 = \"Imię i nazwisko: Mickiewicz, Adam. Data urodzenia: 22 stycznia 1877. Numer telefonu: 789456123\""
      ],
      "execution_count": 17,
      "outputs": []
    },
    {
      "cell_type": "code",
      "metadata": {
        "id": "hMEcIbLk2KvJ"
      },
      "source": [
        "x1 = re.findall(\"[A-Z][a-z]+\\,\\s[A-Z][a-z]+\", tekst1)"
      ],
      "execution_count": 9,
      "outputs": []
    },
    {
      "cell_type": "code",
      "metadata": {
        "colab": {
          "base_uri": "https://localhost:8080/"
        },
        "id": "gUfOzsHh275Y",
        "outputId": "f6a72533-c166-494e-ff9e-69cf82ca0bc3"
      },
      "source": [
        "x1"
      ],
      "execution_count": 10,
      "outputs": [
        {
          "output_type": "execute_result",
          "data": {
            "text/plain": [
              "['Hubar, Patryk']"
            ]
          },
          "metadata": {},
          "execution_count": 10
        }
      ]
    },
    {
      "cell_type": "code",
      "metadata": {
        "id": "IYRR-CHm3h1Q"
      },
      "source": [
        "x2 = re.findall(\"[A-Z][a-z]+, [A-Z][a-z]+\", tekst2)"
      ],
      "execution_count": 18,
      "outputs": []
    },
    {
      "cell_type": "code",
      "metadata": {
        "colab": {
          "base_uri": "https://localhost:8080/"
        },
        "id": "2jwLj1_t3ui1",
        "outputId": "a101bf36-bad1-4d55-f39c-4c3632dc6f17"
      },
      "source": [
        "x2"
      ],
      "execution_count": 19,
      "outputs": [
        {
          "output_type": "execute_result",
          "data": {
            "text/plain": [
              "['Mickiewicz, Adam']"
            ]
          },
          "metadata": {},
          "execution_count": 19
        }
      ]
    },
    {
      "cell_type": "code",
      "metadata": {
        "id": "dqPhvU78EHi1"
      },
      "source": [
        "y1 = re.findall(\"\\d{1,2}\\s\\w+\\s\\d{4}\", tekst1)"
      ],
      "execution_count": 20,
      "outputs": []
    },
    {
      "cell_type": "code",
      "metadata": {
        "colab": {
          "base_uri": "https://localhost:8080/"
        },
        "id": "tKz7T2OAEsJc",
        "outputId": "1b0dd10c-5bae-44a6-fd69-e2b8bb40c1a0"
      },
      "source": [
        "y1"
      ],
      "execution_count": 21,
      "outputs": [
        {
          "output_type": "execute_result",
          "data": {
            "text/plain": [
              "['7 czerwca 1993']"
            ]
          },
          "metadata": {},
          "execution_count": 21
        }
      ]
    },
    {
      "cell_type": "code",
      "metadata": {
        "id": "A_0XoeVuEtrL"
      },
      "source": [
        "y2 = re.findall(\"\\d{1,2}\\s\\w+\\s\\d{4}\", tekst2)"
      ],
      "execution_count": 22,
      "outputs": []
    },
    {
      "cell_type": "code",
      "metadata": {
        "colab": {
          "base_uri": "https://localhost:8080/"
        },
        "id": "0nSbIOFaExaz",
        "outputId": "16fdcc31-551e-4726-e7ea-98700f988db6"
      },
      "source": [
        "y2"
      ],
      "execution_count": 23,
      "outputs": [
        {
          "output_type": "execute_result",
          "data": {
            "text/plain": [
              "['22 stycznia 1877']"
            ]
          },
          "metadata": {},
          "execution_count": 23
        }
      ]
    },
    {
      "cell_type": "code",
      "metadata": {
        "id": "Y5l4-JbdHEAj"
      },
      "source": [
        "number1 = re.findall(\"\\d{3}[-]\\d{3}[-]\\d{3}\", tekst1) or re.findall(\"\\d{9,11}\", tekst1)"
      ],
      "execution_count": 24,
      "outputs": []
    },
    {
      "cell_type": "code",
      "metadata": {
        "colab": {
          "base_uri": "https://localhost:8080/"
        },
        "id": "2L9kN5MYHZCk",
        "outputId": "71cf0dcf-b250-4c27-a22b-91c3c751089b"
      },
      "source": [
        "number1"
      ],
      "execution_count": 25,
      "outputs": [
        {
          "output_type": "execute_result",
          "data": {
            "text/plain": [
              "['123-456-789']"
            ]
          },
          "metadata": {},
          "execution_count": 25
        }
      ]
    },
    {
      "cell_type": "code",
      "metadata": {
        "id": "RRidKnS5HcSs"
      },
      "source": [
        "number2 = re.findall(\"\\d{3}[-]\\d{3}[-]\\d{3}\", tekst2) or re.findall(\"\\d{9,11}\", tekst2)"
      ],
      "execution_count": 26,
      "outputs": []
    },
    {
      "cell_type": "code",
      "metadata": {
        "colab": {
          "base_uri": "https://localhost:8080/"
        },
        "id": "_YVglS7THg6S",
        "outputId": "f005b818-9dbe-4831-bd06-7935b581de14"
      },
      "source": [
        "number2"
      ],
      "execution_count": 27,
      "outputs": [
        {
          "output_type": "execute_result",
          "data": {
            "text/plain": [
              "['789456123']"
            ]
          },
          "metadata": {},
          "execution_count": 27
        }
      ]
    },
    {
      "cell_type": "code",
      "metadata": {
        "id": "VnGJJVhdHora"
      },
      "source": [
        "imie_nazwisko = []"
      ],
      "execution_count": 61,
      "outputs": []
    },
    {
      "cell_type": "code",
      "metadata": {
        "id": "8IOZdYH6IE41"
      },
      "source": [
        "imie_nazwisko.append(x1) \n",
        "imie_nazwisko.append(x2)"
      ],
      "execution_count": 62,
      "outputs": []
    },
    {
      "cell_type": "code",
      "metadata": {
        "colab": {
          "base_uri": "https://localhost:8080/"
        },
        "id": "7gB4VsxHINn5",
        "outputId": "7e4b683e-3442-4fbf-c309-80e0a6eb3d90"
      },
      "source": [
        "imie_nazwisko"
      ],
      "execution_count": 63,
      "outputs": [
        {
          "output_type": "execute_result",
          "data": {
            "text/plain": [
              "[['Hubar, Patryk'], ['Mickiewicz, Adam']]"
            ]
          },
          "metadata": {},
          "execution_count": 63
        }
      ]
    },
    {
      "cell_type": "code",
      "metadata": {
        "id": "AOQfFULnMqSZ"
      },
      "source": [
        "imie_nazwisko_checked = [item for sublist in imie_nazwisko for item in sublist]"
      ],
      "execution_count": 68,
      "outputs": []
    },
    {
      "cell_type": "code",
      "metadata": {
        "colab": {
          "base_uri": "https://localhost:8080/"
        },
        "id": "CyGp_NxlM-vW",
        "outputId": "691f609b-38ec-4124-e8f9-c867143da245"
      },
      "source": [
        "imie_nazwisko_checked"
      ],
      "execution_count": 69,
      "outputs": [
        {
          "output_type": "execute_result",
          "data": {
            "text/plain": [
              "['Hubar, Patryk', 'Mickiewicz, Adam']"
            ]
          },
          "metadata": {},
          "execution_count": 69
        }
      ]
    },
    {
      "cell_type": "code",
      "metadata": {
        "id": "enFKpS7iJK0K"
      },
      "source": [
        "data_urodzenia = []"
      ],
      "execution_count": 70,
      "outputs": []
    },
    {
      "cell_type": "code",
      "metadata": {
        "id": "mMV4HERyJOwx"
      },
      "source": [
        "data_urodzenia.append(y1)\n",
        "data_urodzenia.append(y2)"
      ],
      "execution_count": 71,
      "outputs": []
    },
    {
      "cell_type": "code",
      "metadata": {
        "colab": {
          "base_uri": "https://localhost:8080/"
        },
        "id": "nrYDFBXTJVGi",
        "outputId": "375c75ef-4354-4bb4-859a-58851f4dbe56"
      },
      "source": [
        "data_urodzenia"
      ],
      "execution_count": 72,
      "outputs": [
        {
          "output_type": "execute_result",
          "data": {
            "text/plain": [
              "[['7 czerwca 1993'], ['22 stycznia 1877']]"
            ]
          },
          "metadata": {},
          "execution_count": 72
        }
      ]
    },
    {
      "cell_type": "code",
      "metadata": {
        "id": "hiBjUjWcNRSS"
      },
      "source": [
        "data_urodzenia_checked = [item for sublist in data_urodzenia for item in sublist]"
      ],
      "execution_count": 73,
      "outputs": []
    },
    {
      "cell_type": "code",
      "metadata": {
        "colab": {
          "base_uri": "https://localhost:8080/"
        },
        "id": "PaEvJXNVNby4",
        "outputId": "acbdf839-a24d-4e01-eb09-55442e605818"
      },
      "source": [
        "data_urodzenia_checked"
      ],
      "execution_count": 74,
      "outputs": [
        {
          "output_type": "execute_result",
          "data": {
            "text/plain": [
              "['7 czerwca 1993', '22 stycznia 1877']"
            ]
          },
          "metadata": {},
          "execution_count": 74
        }
      ]
    },
    {
      "cell_type": "code",
      "metadata": {
        "id": "WGMIuOsgJY3p"
      },
      "source": [
        "numer_telefonu = []"
      ],
      "execution_count": 75,
      "outputs": []
    },
    {
      "cell_type": "code",
      "metadata": {
        "id": "ln7AcH-BJc85"
      },
      "source": [
        "numer_telefonu.append(number1)\n",
        "numer_telefonu.append(number2)"
      ],
      "execution_count": 76,
      "outputs": []
    },
    {
      "cell_type": "code",
      "metadata": {
        "colab": {
          "base_uri": "https://localhost:8080/"
        },
        "id": "e-BVOY66JjkR",
        "outputId": "e6ac4174-1144-49de-89e5-cc1b1284e91d"
      },
      "source": [
        "numer_telefonu"
      ],
      "execution_count": 77,
      "outputs": [
        {
          "output_type": "execute_result",
          "data": {
            "text/plain": [
              "[['123-456-789'], ['789456123']]"
            ]
          },
          "metadata": {},
          "execution_count": 77
        }
      ]
    },
    {
      "cell_type": "code",
      "metadata": {
        "id": "L1b5MaRfNiq_"
      },
      "source": [
        "numer_telefonu_checked = [item for sublist in numer_telefonu for item in sublist]"
      ],
      "execution_count": 78,
      "outputs": []
    },
    {
      "cell_type": "code",
      "metadata": {
        "colab": {
          "base_uri": "https://localhost:8080/"
        },
        "id": "YTDcgN1RNq4u",
        "outputId": "7acbe965-fb8a-4ad4-bb03-43b24e3ba20c"
      },
      "source": [
        "numer_telefonu_checked"
      ],
      "execution_count": 79,
      "outputs": [
        {
          "output_type": "execute_result",
          "data": {
            "text/plain": [
              "['123-456-789', '789456123']"
            ]
          },
          "metadata": {},
          "execution_count": 79
        }
      ]
    }
  ]
}