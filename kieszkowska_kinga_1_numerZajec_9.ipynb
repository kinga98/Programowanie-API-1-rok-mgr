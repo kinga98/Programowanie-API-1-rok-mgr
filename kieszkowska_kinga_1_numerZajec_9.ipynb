{
  "nbformat": 4,
  "nbformat_minor": 0,
  "metadata": {
    "colab": {
      "name": "kieszkowska_kinga_1_numerZajec_9.ipynb",
      "provenance": [],
      "authorship_tag": "ABX9TyMD4WKKV9fLF6TyZ859sP31",
      "include_colab_link": true
    },
    "kernelspec": {
      "name": "python3",
      "display_name": "Python 3"
    },
    "language_info": {
      "name": "python"
    }
  },
  "cells": [
    {
      "cell_type": "markdown",
      "metadata": {
        "id": "view-in-github",
        "colab_type": "text"
      },
      "source": [
        "<a href=\"https://colab.research.google.com/github/kinga98/Programowanie-API-1-rok-mgr/blob/main/kieszkowska_kinga_1_numerZajec_9.ipynb\" target=\"_parent\"><img src=\"https://colab.research.google.com/assets/colab-badge.svg\" alt=\"Open In Colab\"/></a>"
      ]
    },
    {
      "cell_type": "code",
      "metadata": {
        "id": "KbvJvz3K2JFC"
      },
      "source": [
        "import re"
      ],
      "execution_count": 3,
      "outputs": []
    },
    {
      "cell_type": "code",
      "metadata": {
        "id": "NEthxgYu1Xy3"
      },
      "source": [
        "tekst1 = \"Imię i nazwisko: Hubar, Patryk. Data urodzenia: 7 czerwca 1993. Numer telefonu: 123-456-789\""
      ],
      "execution_count": 1,
      "outputs": []
    },
    {
      "cell_type": "code",
      "metadata": {
        "id": "_Hy4Td421uKU"
      },
      "source": [
        "tekst2 = \"Imię i nazwisko: Mickiewicz, Adam. Data urodzenia: 22 stycznia 1877. Numer telefonu: 789456123\""
      ],
      "execution_count": 17,
      "outputs": []
    },
    {
      "cell_type": "code",
      "metadata": {
        "id": "hMEcIbLk2KvJ"
      },
      "source": [
        "x1 = re.findall(\"[A-Z][a-z]+\\,\\s[A-Z][a-z]+\", tekst1)"
      ],
      "execution_count": 9,
      "outputs": []
    },
    {
      "cell_type": "code",
      "metadata": {
        "colab": {
          "base_uri": "https://localhost:8080/"
        },
        "id": "gUfOzsHh275Y",
        "outputId": "f6a72533-c166-494e-ff9e-69cf82ca0bc3"
      },
      "source": [
        "x1"
      ],
      "execution_count": 10,
      "outputs": [
        {
          "output_type": "execute_result",
          "data": {
            "text/plain": [
              "['Hubar, Patryk']"
            ]
          },
          "metadata": {},
          "execution_count": 10
        }
      ]
    },
    {
      "cell_type": "code",
      "metadata": {
        "id": "IYRR-CHm3h1Q"
      },
      "source": [
        "x2 = re.findall(\"[A-Z][a-z]+, [A-Z][a-z]+\", tekst2)"
      ],
      "execution_count": 18,
      "outputs": []
    },
    {
      "cell_type": "code",
      "metadata": {
        "colab": {
          "base_uri": "https://localhost:8080/"
        },
        "id": "2jwLj1_t3ui1",
        "outputId": "a101bf36-bad1-4d55-f39c-4c3632dc6f17"
      },
      "source": [
        "x2"
      ],
      "execution_count": 19,
      "outputs": [
        {
          "output_type": "execute_result",
          "data": {
            "text/plain": [
              "['Mickiewicz, Adam']"
            ]
          },
          "metadata": {},
          "execution_count": 19
        }
      ]
    },
    {
      "cell_type": "code",
      "metadata": {
        "id": "dqPhvU78EHi1"
      },
      "source": [
        "y1 = re.findall(\"\\d{1,2}\\s\\w+\\s\\d{4}\", tekst1)"
      ],
      "execution_count": 20,
      "outputs": []
    },
    {
      "cell_type": "code",
      "metadata": {
        "colab": {
          "base_uri": "https://localhost:8080/"
        },
        "id": "tKz7T2OAEsJc",
        "outputId": "1b0dd10c-5bae-44a6-fd69-e2b8bb40c1a0"
      },
      "source": [
        "y1"
      ],
      "execution_count": 21,
      "outputs": [
        {
          "output_type": "execute_result",
          "data": {
            "text/plain": [
              "['7 czerwca 1993']"
            ]
          },
          "metadata": {},
          "execution_count": 21
        }
      ]
    },
    {
      "cell_type": "code",
      "metadata": {
        "id": "A_0XoeVuEtrL"
      },
      "source": [
        "y2 = re.findall(\"\\d{1,2}\\s\\w+\\s\\d{4}\", tekst2)"
      ],
      "execution_count": 22,
      "outputs": []
    },
    {
      "cell_type": "code",
      "metadata": {
        "colab": {
          "base_uri": "https://localhost:8080/"
        },
        "id": "0nSbIOFaExaz",
        "outputId": "16fdcc31-551e-4726-e7ea-98700f988db6"
      },
      "source": [
        "y2"
      ],
      "execution_count": 23,
      "outputs": [
        {
          "output_type": "execute_result",
          "data": {
            "text/plain": [
              "['22 stycznia 1877']"
            ]
          },
          "metadata": {},
          "execution_count": 23
        }
      ]
    },
    {
      "cell_type": "code",
      "metadata": {
        "id": "Y5l4-JbdHEAj"
      },
      "source": [
        "number1 = re.findall(\"\\d{3}[-]\\d{3}[-]\\d{3}\", tekst1) or re.findall(\"\\d{9,11}\", tekst1)"
      ],
      "execution_count": 24,
      "outputs": []
    },
    {
      "cell_type": "code",
      "metadata": {
        "colab": {
          "base_uri": "https://localhost:8080/"
        },
        "id": "2L9kN5MYHZCk",
        "outputId": "71cf0dcf-b250-4c27-a22b-91c3c751089b"
      },
      "source": [
        "number1"
      ],
      "execution_count": 25,
      "outputs": [
        {
          "output_type": "execute_result",
          "data": {
            "text/plain": [
              "['123-456-789']"
            ]
          },
          "metadata": {},
          "execution_count": 25
        }
      ]
    },
    {
      "cell_type": "code",
      "metadata": {
        "id": "RRidKnS5HcSs"
      },
      "source": [
        "number2 = re.findall(\"\\d{3}[-]\\d{3}[-]\\d{3}\", tekst2) or re.findall(\"\\d{9,11}\", tekst2)"
      ],
      "execution_count": 26,
      "outputs": []
    },
    {
      "cell_type": "code",
      "metadata": {
        "colab": {
          "base_uri": "https://localhost:8080/"
        },
        "id": "_YVglS7THg6S",
        "outputId": "f005b818-9dbe-4831-bd06-7935b581de14"
      },
      "source": [
        "number2"
      ],
      "execution_count": 27,
      "outputs": [
        {
          "output_type": "execute_result",
          "data": {
            "text/plain": [
              "['789456123']"
            ]
          },
          "metadata": {},
          "execution_count": 27
        }
      ]
    },
    {
      "cell_type": "code",
      "metadata": {
        "id": "VnGJJVhdHora"
      },
      "source": [
        "imie_nazwisko = []"
      ],
      "execution_count": 51,
      "outputs": []
    },
    {
      "cell_type": "code",
      "metadata": {
        "id": "8IOZdYH6IE41"
      },
      "source": [
        "imie_nazwisko.append(\"Hubar, Patryk\") \n",
        "imie_nazwisko.append(\"Mickiewicz, Adam\")"
      ],
      "execution_count": 53,
      "outputs": []
    },
    {
      "cell_type": "code",
      "metadata": {
        "colab": {
          "base_uri": "https://localhost:8080/"
        },
        "id": "7gB4VsxHINn5",
        "outputId": "63f11436-14c1-45c3-c326-72155e5f596e"
      },
      "source": [
        "imie_nazwisko"
      ],
      "execution_count": 54,
      "outputs": [
        {
          "output_type": "execute_result",
          "data": {
            "text/plain": [
              "['Hubar, Patryk', 'Mickiewicz, Adam']"
            ]
          },
          "metadata": {},
          "execution_count": 54
        }
      ]
    },
    {
      "cell_type": "code",
      "metadata": {
        "id": "enFKpS7iJK0K"
      },
      "source": [
        "data_urodzenia = []"
      ],
      "execution_count": 55,
      "outputs": []
    },
    {
      "cell_type": "code",
      "metadata": {
        "id": "mMV4HERyJOwx"
      },
      "source": [
        "data_urodzenia.append(\"7 czerwca 1993\")\n",
        "data_urodzenia.append(\"22 stycznia 1877\")"
      ],
      "execution_count": 56,
      "outputs": []
    },
    {
      "cell_type": "code",
      "metadata": {
        "colab": {
          "base_uri": "https://localhost:8080/"
        },
        "id": "nrYDFBXTJVGi",
        "outputId": "3e175fec-45fa-4df5-9fa4-302d1e13d396"
      },
      "source": [
        "data_urodzenia"
      ],
      "execution_count": 57,
      "outputs": [
        {
          "output_type": "execute_result",
          "data": {
            "text/plain": [
              "['7 czerwca 1993', '22 stycznia 1877']"
            ]
          },
          "metadata": {},
          "execution_count": 57
        }
      ]
    },
    {
      "cell_type": "code",
      "metadata": {
        "id": "WGMIuOsgJY3p"
      },
      "source": [
        "numer_telefonu = []"
      ],
      "execution_count": 58,
      "outputs": []
    },
    {
      "cell_type": "code",
      "metadata": {
        "id": "ln7AcH-BJc85"
      },
      "source": [
        "numer_telefonu.append(\"123-456-789\")\n",
        "numer_telefonu.append(\"789456123\")"
      ],
      "execution_count": 59,
      "outputs": []
    },
    {
      "cell_type": "code",
      "metadata": {
        "colab": {
          "base_uri": "https://localhost:8080/"
        },
        "id": "e-BVOY66JjkR",
        "outputId": "5a16188d-b3c5-450b-a7e8-4e0c0d6e78b0"
      },
      "source": [
        "numer_telefonu"
      ],
      "execution_count": 60,
      "outputs": [
        {
          "output_type": "execute_result",
          "data": {
            "text/plain": [
              "['123-456-789', '789456123']"
            ]
          },
          "metadata": {},
          "execution_count": 60
        }
      ]
    }
  ]
}