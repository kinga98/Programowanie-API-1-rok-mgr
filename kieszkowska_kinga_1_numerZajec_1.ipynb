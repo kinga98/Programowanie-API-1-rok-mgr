{
  "nbformat": 4,
  "nbformat_minor": 0,
  "metadata": {
    "colab": {
      "name": "kieszkowska_kinga_1_numerZajec_1.ipynb",
      "provenance": [],
      "collapsed_sections": []
    },
    "kernelspec": {
      "name": "python3",
      "display_name": "Python 3"
    },
    "language_info": {
      "name": "python"
    }
  },
  "cells": [
    {
      "cell_type": "markdown",
      "metadata": {
        "id": "DkgzsyK1EDzp"
      },
      "source": [
        "Cwiczenie 2"
      ]
    },
    {
      "cell_type": "code",
      "metadata": {
        "colab": {
          "base_uri": "https://localhost:8080/"
        },
        "id": "Gj61MBm0CoDu",
        "outputId": "1fbaedf8-2802-4ca4-8470-3460607a7a72"
      },
      "source": [
        "print(\"Lorem ipsum dolor sit amet, consectetur adipiscing elit,\")\n",
        "print(\"sed do eiusmod tempor incididunt ut labore\")\n",
        "print(\"et dolore magna aliqua.\") "
      ],
      "execution_count": null,
      "outputs": [
        {
          "output_type": "stream",
          "name": "stdout",
          "text": [
            "Lorem ipsum dolor sit amet, consectetur adipiscing elit,\n",
            "sed do eiusmod tempor incididunt ut labore\n",
            "et dolore magna aliqua.\n"
          ]
        }
      ]
    },
    {
      "cell_type": "markdown",
      "metadata": {
        "id": "-p2NuydMEZx8"
      },
      "source": [
        "Cwiczenie 3"
      ]
    },
    {
      "cell_type": "code",
      "metadata": {
        "colab": {
          "base_uri": "https://localhost:8080/"
        },
        "id": "2putGIcKEfBg",
        "outputId": "99d7ce56-41e2-40b2-f640-42f8162d726f"
      },
      "source": [
        "zmienna1 = 12\n",
        "zmienna2 = 49.5\n",
        "zmienna3 = \"Abrakadabra\"\n",
        "print(zmienna1,zmienna2,zmienna3)\n",
        "\n",
        "                                    \n"
      ],
      "execution_count": null,
      "outputs": [
        {
          "output_type": "stream",
          "name": "stdout",
          "text": [
            "12 49.5 Abrakadabra\n"
          ]
        }
      ]
    },
    {
      "cell_type": "markdown",
      "metadata": {
        "id": "mp829Sx8ICOs"
      },
      "source": [
        "Cwiczenie 4"
      ]
    },
    {
      "cell_type": "code",
      "metadata": {
        "colab": {
          "base_uri": "https://localhost:8080/"
        },
        "id": "-9xJTAZlIE-Z",
        "outputId": "75e4adb0-e689-4045-d495-7ab2f23a1606"
      },
      "source": [
        "a = 150\n",
        "b = 34\n",
        "\n",
        "#dodawanie \n",
        "print(a + b)\n",
        "\n",
        "#odejmowanie\n",
        "print(a - b)\n",
        "\n",
        "#mnozenie\n",
        "print(a * b)\n",
        "\n",
        "#dzielenie\n",
        "print(a / b)\n",
        "\n",
        "#modulo\n",
        "print(a % b)\n",
        "\n",
        "#potegowanie \n",
        "print(a ** b)"
      ],
      "execution_count": null,
      "outputs": [
        {
          "output_type": "stream",
          "name": "stdout",
          "text": [
            "184\n",
            "116\n",
            "5100\n",
            "4.411764705882353\n",
            "14\n",
            "97073973736647568875923752784729003906250000000000000000000000000000000000\n"
          ]
        }
      ]
    },
    {
      "cell_type": "markdown",
      "metadata": {
        "id": "e5yk-A3BJSef"
      },
      "source": [
        "Cwiczenie 5"
      ]
    },
    {
      "cell_type": "code",
      "metadata": {
        "colab": {
          "base_uri": "https://localhost:8080/"
        },
        "id": "nLoRlDGCJU_Z",
        "outputId": "f0f16c70-90a9-4a17-894e-16ff041354dd"
      },
      "source": [
        "#int \n",
        "c = 21\n",
        "#float\n",
        "d = 2.5\n",
        "\n",
        "#jest rowny \n",
        "print(c == d)\n",
        "\n",
        "#nie jest rowny\n",
        "print(c != d)\n",
        "\n",
        "#wiekszy/mniejszy\n",
        "print(c > d)\n",
        "print(c < d)\n",
        "\n",
        "#wiekszy badz rowny lub mniejszy badz rowny\n",
        "print(c <= d)\n",
        "print(c >= d)\n",
        "\n",
        "\n"
      ],
      "execution_count": null,
      "outputs": [
        {
          "output_type": "stream",
          "name": "stdout",
          "text": [
            "False\n",
            "True\n",
            "True\n",
            "False\n",
            "False\n",
            "True\n"
          ]
        }
      ]
    },
    {
      "cell_type": "markdown",
      "metadata": {
        "id": "K_SHbLjnKe-d"
      },
      "source": [
        "Cwiczenie 6"
      ]
    },
    {
      "cell_type": "code",
      "metadata": {
        "colab": {
          "base_uri": "https://localhost:8080/"
        },
        "id": "l3nxNM5DKhuj",
        "outputId": "2f22ad8a-e22e-4713-e39b-c05486dced3c"
      },
      "source": [
        "tekst1 = \"one way\"\n",
        "tekst2 = \"or another\" \n",
        "\n",
        "strzalka1 = \"<-\"\n",
        "strzalka2 = \"->\"\n",
        "znak = \"|\"\n",
        "\n",
        "print(strzalka1,tekst1,znak,tekst2,strzalka2)"
      ],
      "execution_count": null,
      "outputs": [
        {
          "output_type": "stream",
          "name": "stdout",
          "text": [
            "<- one way | or another ->\n"
          ]
        }
      ]
    }
  ]
}